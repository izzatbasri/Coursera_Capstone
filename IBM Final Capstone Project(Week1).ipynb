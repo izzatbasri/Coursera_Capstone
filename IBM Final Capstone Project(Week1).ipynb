{
 "cells": [
  {
   "cell_type": "markdown",
   "metadata": {},
   "source": [
    "<h1>IBM Data Science Capstone Project</h1>\n",
    "<h2>Assessment on best area to open a restaurant in Kuala Lumpur, Malaysia</h2>"
   ]
  },
  {
   "cell_type": "markdown",
   "metadata": {},
   "source": [
    "<h3>Introduction / Business Problem</h3>"
   ]
  },
  {
   "cell_type": "markdown",
   "metadata": {},
   "source": [
    "<b>Background</b><br>\n",
    "Malaysian cuisine consists of cooking traditions and practices found in Malaysia, and reflects the multi-ethnic makeup of its population. The vast majority of Malaysia's population can roughly be divided among three major ethnic groups: Malays, Chinese and Indians. The remainder consists of the indigenous peoples of Sabah and Sarawak in East Malaysia, the Orang Asli of Peninsular Malaysia, the Peranakan and Eurasian creole communities, as well as a significant number of foreign workers and expatriates.\n",
    "<br><br>\n",
    "As a result of historical migrations, colonisation by foreign powers, and its geographical position within its wider home region, Malaysia's culinary style in the present day is primarily a melange of traditions from its Malay, Chinese, Indian, Indonesian and ethnic Bornean citizens, with heavy to light influences from Thai, Portuguese, Dutch, Arabian cuisines and British cuisines, to name a few. This resulted in a symphony of flavours, making Malaysian cuisine highly complex and diverse. The condiments and spices used in cooking varies as the land is blessed with these natural resources that brings bursting flavours in the outcome of meal preparation.\n",
    "<br><br><b>Problem</b><br>\n",
    "As one of the region’s major destinations for food, it should not be a surprise that many want to start a restaurant in Malaysia. Malaysia is globally known as a paradise for food lovers. Both locals and tourists alike can enjoy a selection from an extensive menu from the country’s multicultural society.<br><br>\n",
    "Setting up a restaurant in Malaysia can sometimes be an expensive and difficult process as it involves getting the business incorporated, finding a suitable location, choosing a menu that can help the restaurant survive the competition, and many other elements. If one can overcome these hassles properly, then the owner will find it a profitable and lucrative business opportunity in Malaysia.<br><br>\n",
    "With many restaurant scattered around Kuala Lumpur, how do we identify the best place to set up a restaurant so that it will maximize footfall and increase revenue.\n",
    "<br><br><b>Interest</b><br>\n",
    "For food entrepreneur, we will discover how do we assess and break down areas in Kuala Lumpur to identify areas will be the best to open a restaurant so that this will help them minimize the risk of failure."
   ]
  },
  {
   "cell_type": "markdown",
   "metadata": {},
   "source": [
    "<b>Data Gathering</b>"
   ]
  },
  {
   "cell_type": "markdown",
   "metadata": {},
   "source": [
    "<div>To work on this study, we will gather data from:</div>\n",
    "<ul>\n",
    "<li>Kuala Lumpur Data:\n",
    "    <ul>\n",
    "        <li><b>Areas</b>: Name of the area</li>\n",
    "        <li><b>Postcode</b>: Postcode of the area</li>\n",
    "        <li><b>Population</b>: Density of the population by area</li></ul>\n",
    "        <li>Foursquare API:</li>\n",
    "    <ul>\n",
    "        <li><b>id</b>: A unique string identifier for this venue</li>\n",
    "        <li><b>name</b>: The best known name for this venue</li>\n",
    "        <li><b>location</b>: An object containing none, some, or all of address (street address), crossStreet, city, state, postalCode, country, lat, lng, and distance. All fields are strings, except for lat, lng, and distance. Distance is measured in meters. Some venues have their locations intentionally hidden for privacy reasons (such as private residences). If this is the case, the parameter isFuzzed will be set to true, and the lat/lng parameters will have reduced precision.</li>\n",
    "        <li><b>categories</b>: An array, possibly empty, of categories that have been applied to this venue. One of the categories will have a primary field indicating that it is the primary category for the venue. For the complete category tree, see categories.</li>\n",
    "    </ul>\n",
    "</ul><br>\n",
    "<div>Based on this information, we will then create an analysis to determine the no of restaurant </div>"
   ]
  },
  {
   "cell_type": "code",
   "execution_count": null,
   "metadata": {},
   "outputs": [],
   "source": []
  }
 ],
 "metadata": {
  "kernelspec": {
   "display_name": "Python 3",
   "language": "python",
   "name": "python3"
  },
  "language_info": {
   "codemirror_mode": {
    "name": "ipython",
    "version": 3
   },
   "file_extension": ".py",
   "mimetype": "text/x-python",
   "name": "python",
   "nbconvert_exporter": "python",
   "pygments_lexer": "ipython3",
   "version": "3.8.3"
  }
 },
 "nbformat": 4,
 "nbformat_minor": 4
}
