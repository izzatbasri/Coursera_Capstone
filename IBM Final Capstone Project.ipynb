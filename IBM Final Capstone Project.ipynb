{
 "cells": [
  {
   "cell_type": "markdown",
   "metadata": {},
   "source": [
    "<h1>IBM Data Science Capstone Project</h1>\n",
    "<h2>Assessment on best area to purchase a property in Kuala Lumpur, Malaysia</h2>"
   ]
  },
  {
   "cell_type": "markdown",
   "metadata": {},
   "source": [
    "<b>Introduction / Business Problem</b>"
   ]
  },
  {
   "cell_type": "markdown",
   "metadata": {},
   "source": [
    "<div>In this Capstone Project, we will discover how do we assess and break down areas in Kuala Lumpur to identify areas that will give best return per sqft. This will help investors to understand what will be the strategy for investors in real-estate to choose the best investment areas which will include the overall location, access to area, transportation infrastructure availability and other factors.</div>"
   ]
  },
  {
   "cell_type": "markdown",
   "metadata": {},
   "source": [
    "<b>Data Gathering</b>"
   ]
  },
  {
   "cell_type": "markdown",
   "metadata": {},
   "source": [
    "<div>To work on this study, I shall utilize data from Foursquare to get information about attractiveness of \n",
    "location in Kuala Lumpur. This will help to identify the availability of:</div>\n",
    "<ul>\n",
    "<li>Train Station</li>\n",
    "<li>Restaurant & Cafes</li>\n",
    "<li>Cinema</li>\n",
    "<li>Shopping Malls</li>\n",
    "<li>Supermarket</li>\n",
    "<li>Parks & Recreation</li>\n",
    "</ul><br>\n",
    "<div>Based on this information, we will then do a ranking based on the availability to determine the attractiveness of the location, which can help investor to come up with decision whether to invest or not in specific locations</div>"
   ]
  }
 ],
 "metadata": {
  "kernelspec": {
   "display_name": "Python 3",
   "language": "python",
   "name": "python3"
  },
  "language_info": {
   "codemirror_mode": {
    "name": "ipython",
    "version": 3
   },
   "file_extension": ".py",
   "mimetype": "text/x-python",
   "name": "python",
   "nbconvert_exporter": "python",
   "pygments_lexer": "ipython3",
   "version": "3.8.3"
  }
 },
 "nbformat": 4,
 "nbformat_minor": 4
}
